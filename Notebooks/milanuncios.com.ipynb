{
 "cells": [
  {
   "cell_type": "code",
   "execution_count": null,
   "metadata": {},
   "outputs": [],
   "source": [
    "from selenium import webdriver\n",
    "from selenium.webdriver.common.by import By\n",
    "from selenium.common.exceptions import NoSuchElementException\n",
    "from datetime import datetime\n",
    "\n",
    "import time\n",
    "\n",
    "import pandas as pd"
   ]
  },
  {
   "cell_type": "code",
   "execution_count": 7,
   "metadata": {},
   "outputs": [],
   "source": [
    "c_options = webdriver.ChromeOptions()\n",
    "c_options.add_argument(\"--start-maximized\")\n",
    "c_driver = webdriver.Chrome(options=c_options)"
   ]
  },
  {
   "cell_type": "code",
   "execution_count": null,
   "metadata": {},
   "outputs": [],
   "source": [
    "url = \"https://www.milanuncios.com/coches-de-segunda-mano/?s=tesla\"\n",
    "\n",
    "data = []\n",
    "for i in range(1,4):\n",
    "    c_driver.get(f'{url}&pagina={i}')\n",
    "    time.sleep(5)\n",
    "    c_driver.execute_script(\"window.scrollTo(0, document.body.scrollHeight);\")\n",
    "    time.sleep(2)\n",
    "\n",
    "    cars = c_driver.find_elements(By.TAG_NAME, 'article')   \n",
    "    for car in cars:\n",
    "        car_type = car.find_element(By.XPATH, './div/div[1]/div/a/h2').text \n",
    "\n",
    "        price = car.find_element(By.XPATH, './div/div[1]/a[1]/div[1]/div/p[1]/span[2]').text\n",
    "        \n",
    "        km = car.find_element(By.XPATH, './div/div[1]/a[2]/div[2]/ul/li[1]/span/span').text\n",
    "        \n",
    "        year = car.find_element(By.XPATH, './div/div[1]/a[2]/div[2]/ul/li[2]/span/span').text\n",
    "\n",
    "        data.append({\n",
    "                'car_type': car_type,\n",
    "                'year': year,\n",
    "                'price': price,\n",
    "                'km': km\n",
    "            })"
   ]
  },
  {
   "cell_type": "code",
   "execution_count": null,
   "metadata": {},
   "outputs": [],
   "source": [
    "df = pd.DataFrame(data)\n",
    "df"
   ]
  },
  {
   "cell_type": "code",
   "execution_count": null,
   "metadata": {},
   "outputs": [],
   "source": [
    "df.isna().sum()"
   ]
  },
  {
   "cell_type": "code",
   "execution_count": null,
   "metadata": {},
   "outputs": [],
   "source": [
    "df.to_csv('milanuncios.com.csv')"
   ]
  }
 ],
 "metadata": {
  "kernelspec": {
   "display_name": "iabd_scraping_env",
   "language": "python",
   "name": "python3"
  },
  "language_info": {
   "codemirror_mode": {
    "name": "ipython",
    "version": 3
   },
   "file_extension": ".py",
   "mimetype": "text/x-python",
   "name": "python",
   "nbconvert_exporter": "python",
   "pygments_lexer": "ipython3",
   "version": "3.11.10"
  }
 },
 "nbformat": 4,
 "nbformat_minor": 2
}
