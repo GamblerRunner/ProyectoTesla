{
 "cells": [
  {
   "cell_type": "code",
   "execution_count": 86,
   "metadata": {},
   "outputs": [],
   "source": [
    "from selenium import webdriver\n",
    "from selenium.webdriver.chrome.options import Options\n",
    "from selenium.webdriver.common.by import By\n",
    "from selenium.common.exceptions import NoSuchElementException\n",
    "from datetime import datetime\n",
    "import undetected_chromedriver as uc\n",
    "\n",
    "import time\n",
    "\n",
    "import pandas as pd"
   ]
  },
  {
   "cell_type": "code",
   "execution_count": 87,
   "metadata": {},
   "outputs": [],
   "source": [
    "c_options = Options()\n",
    "c_options.add_argument(\"--start-maximized\")\n",
    "c_options.add_argument(\"--disable-gpu\")\n",
    "c_options.add_argument(\"--no-sandbox\")\n",
    "c_options.add_argument(\"user-agent=Mozilla/5.0 (Windows NT 10.0; Win64; x64) AppleWebKit/537.36 (KHTML, like Gecko) Chrome/98.0.4758.102 Safari/537.36\")\n",
    "c_driver = uc.Chrome(options=c_options)"
   ]
  },
  {
   "cell_type": "code",
   "execution_count": null,
   "metadata": {},
   "outputs": [
    {
     "name": "stdout",
     "output_type": "stream",
     "text": [
      "41\n"
     ]
    },
    {
     "ename": "NoSuchElementException",
     "evalue": "Message: no such element: Unable to locate element: {\"method\":\"xpath\",\"selector\":\"/html/body/div[2]/div[3]/div[3]/div[1]/div[2]/div[3]/div/main/div[3]/article[6]/div/div[1]/div/a/h2\"}\n  (Session info: chrome=131.0.6778.139); For documentation on this error, please visit: https://www.selenium.dev/documentation/webdriver/troubleshooting/errors#no-such-element-exception\nStacktrace:\n\tGetHandleVerifier [0x00B634A3+25059]\n\t(No symbol) [0x00AECEA4]\n\t(No symbol) [0x009CBEC3]\n\t(No symbol) [0x00A0FD86]\n\t(No symbol) [0x00A0FFCB]\n\t(No symbol) [0x00A05B01]\n\t(No symbol) [0x00A31F44]\n\t(No symbol) [0x00A05A24]\n\t(No symbol) [0x00A32194]\n\t(No symbol) [0x00A4B51E]\n\t(No symbol) [0x00A31C96]\n\t(No symbol) [0x00A03FAC]\n\t(No symbol) [0x00A04F3D]\n\tGetHandleVerifier [0x00E55613+3113811]\n\tGetHandleVerifier [0x00E6A2DA+3199002]\n\tGetHandleVerifier [0x00E62AB2+3168242]\n\tGetHandleVerifier [0x00C03310+680016]\n\t(No symbol) [0x00AF57ED]\n\t(No symbol) [0x00AF2A98]\n\t(No symbol) [0x00AF2C35]\n\t(No symbol) [0x00AE5890]\n\tBaseThreadInitThunk [0x75ECFCC9+25]\n\tRtlGetAppContainerNamedObjectPath [0x77C7809E+286]\n\tRtlGetAppContainerNamedObjectPath [0x77C7806E+238]\n",
     "output_type": "error",
     "traceback": [
      "\u001b[1;31m---------------------------------------------------------------------------\u001b[0m",
      "\u001b[1;31mNoSuchElementException\u001b[0m                    Traceback (most recent call last)",
      "Cell \u001b[1;32mIn[88], line 28\u001b[0m\n\u001b[0;32m     25\u001b[0m \u001b[38;5;28mprint\u001b[39m(\u001b[38;5;28mlen\u001b[39m(cars))\n\u001b[0;32m     26\u001b[0m \u001b[38;5;28;01mfor\u001b[39;00m car \u001b[38;5;129;01min\u001b[39;00m cars:\n\u001b[1;32m---> 28\u001b[0m     car_type \u001b[38;5;241m=\u001b[39m \u001b[43mcar\u001b[49m\u001b[38;5;241;43m.\u001b[39;49m\u001b[43mfind_element\u001b[49m\u001b[43m(\u001b[49m\u001b[43mBy\u001b[49m\u001b[38;5;241;43m.\u001b[39;49m\u001b[43mXPATH\u001b[49m\u001b[43m,\u001b[49m\u001b[43m \u001b[49m\u001b[38;5;124;43mf\u001b[39;49m\u001b[38;5;124;43m'\u001b[39;49m\u001b[38;5;124;43m/html/body/div[2]/div[3]/div[3]/div[1]/div[2]/div[3]/div/main/div[3]/article[\u001b[39;49m\u001b[38;5;132;43;01m{\u001b[39;49;00m\u001b[43marticleNumber\u001b[49m\u001b[38;5;132;43;01m}\u001b[39;49;00m\u001b[38;5;124;43m]/div/div[1]/div/a/h2\u001b[39;49m\u001b[38;5;124;43m'\u001b[39;49m\u001b[43m)\u001b[49m\u001b[38;5;241m.\u001b[39mtext \n\u001b[0;32m     30\u001b[0m     price \u001b[38;5;241m=\u001b[39m car\u001b[38;5;241m.\u001b[39mfind_element(By\u001b[38;5;241m.\u001b[39mXPATH, \u001b[38;5;124mf\u001b[39m\u001b[38;5;124m'\u001b[39m\u001b[38;5;124m/html/body/div[2]/div[3]/div[3]/div[1]/div[2]/div[3]/div/main/div[3]/article[\u001b[39m\u001b[38;5;132;01m{\u001b[39;00marticleNumber\u001b[38;5;132;01m}\u001b[39;00m\u001b[38;5;124m]/div/div[1]/a[1]/div[1]/div/p/span[2]\u001b[39m\u001b[38;5;124m'\u001b[39m)\u001b[38;5;241m.\u001b[39mtext\n\u001b[0;32m     32\u001b[0m     km \u001b[38;5;241m=\u001b[39m car\u001b[38;5;241m.\u001b[39mfind_element(By\u001b[38;5;241m.\u001b[39mXPATH, \u001b[38;5;124mf\u001b[39m\u001b[38;5;124m'\u001b[39m\u001b[38;5;124m/html/body/div[2]/div[3]/div[3]/div[1]/div[2]/div[3]/div/main/div[3]/article[\u001b[39m\u001b[38;5;132;01m{\u001b[39;00marticleNumber\u001b[38;5;132;01m}\u001b[39;00m\u001b[38;5;124m]/div/div[1]/a[2]/div[2]/ul/li[1]/span/span\u001b[39m\u001b[38;5;124m'\u001b[39m)\u001b[38;5;241m.\u001b[39mtext\n",
      "File \u001b[1;32mc:\\Users\\victo\\AppData\\Local\\Programs\\Python\\Python313\\Lib\\site-packages\\selenium\\webdriver\\remote\\webelement.py:408\u001b[0m, in \u001b[0;36mWebElement.find_element\u001b[1;34m(self, by, value)\u001b[0m\n\u001b[0;32m    398\u001b[0m \u001b[38;5;250m\u001b[39m\u001b[38;5;124;03m\"\"\"Find an element given a By strategy and locator.\u001b[39;00m\n\u001b[0;32m    399\u001b[0m \n\u001b[0;32m    400\u001b[0m \u001b[38;5;124;03m:Usage:\u001b[39;00m\n\u001b[1;32m   (...)\u001b[0m\n\u001b[0;32m    405\u001b[0m \u001b[38;5;124;03m:rtype: WebElement\u001b[39;00m\n\u001b[0;32m    406\u001b[0m \u001b[38;5;124;03m\"\"\"\u001b[39;00m\n\u001b[0;32m    407\u001b[0m by, value \u001b[38;5;241m=\u001b[39m \u001b[38;5;28mself\u001b[39m\u001b[38;5;241m.\u001b[39m_parent\u001b[38;5;241m.\u001b[39mlocator_converter\u001b[38;5;241m.\u001b[39mconvert(by, value)\n\u001b[1;32m--> 408\u001b[0m \u001b[38;5;28;01mreturn\u001b[39;00m \u001b[38;5;28;43mself\u001b[39;49m\u001b[38;5;241;43m.\u001b[39;49m\u001b[43m_execute\u001b[49m\u001b[43m(\u001b[49m\u001b[43mCommand\u001b[49m\u001b[38;5;241;43m.\u001b[39;49m\u001b[43mFIND_CHILD_ELEMENT\u001b[49m\u001b[43m,\u001b[49m\u001b[43m \u001b[49m\u001b[43m{\u001b[49m\u001b[38;5;124;43m\"\u001b[39;49m\u001b[38;5;124;43musing\u001b[39;49m\u001b[38;5;124;43m\"\u001b[39;49m\u001b[43m:\u001b[49m\u001b[43m \u001b[49m\u001b[43mby\u001b[49m\u001b[43m,\u001b[49m\u001b[43m \u001b[49m\u001b[38;5;124;43m\"\u001b[39;49m\u001b[38;5;124;43mvalue\u001b[39;49m\u001b[38;5;124;43m\"\u001b[39;49m\u001b[43m:\u001b[49m\u001b[43m \u001b[49m\u001b[43mvalue\u001b[49m\u001b[43m}\u001b[49m\u001b[43m)\u001b[49m[\u001b[38;5;124m\"\u001b[39m\u001b[38;5;124mvalue\u001b[39m\u001b[38;5;124m\"\u001b[39m]\n",
      "File \u001b[1;32mc:\\Users\\victo\\AppData\\Local\\Programs\\Python\\Python313\\Lib\\site-packages\\selenium\\webdriver\\remote\\webelement.py:395\u001b[0m, in \u001b[0;36mWebElement._execute\u001b[1;34m(self, command, params)\u001b[0m\n\u001b[0;32m    393\u001b[0m     params \u001b[38;5;241m=\u001b[39m {}\n\u001b[0;32m    394\u001b[0m params[\u001b[38;5;124m\"\u001b[39m\u001b[38;5;124mid\u001b[39m\u001b[38;5;124m\"\u001b[39m] \u001b[38;5;241m=\u001b[39m \u001b[38;5;28mself\u001b[39m\u001b[38;5;241m.\u001b[39m_id\n\u001b[1;32m--> 395\u001b[0m \u001b[38;5;28;01mreturn\u001b[39;00m \u001b[38;5;28;43mself\u001b[39;49m\u001b[38;5;241;43m.\u001b[39;49m\u001b[43m_parent\u001b[49m\u001b[38;5;241;43m.\u001b[39;49m\u001b[43mexecute\u001b[49m\u001b[43m(\u001b[49m\u001b[43mcommand\u001b[49m\u001b[43m,\u001b[49m\u001b[43m \u001b[49m\u001b[43mparams\u001b[49m\u001b[43m)\u001b[49m\n",
      "File \u001b[1;32mc:\\Users\\victo\\AppData\\Local\\Programs\\Python\\Python313\\Lib\\site-packages\\selenium\\webdriver\\remote\\webdriver.py:384\u001b[0m, in \u001b[0;36mWebDriver.execute\u001b[1;34m(self, driver_command, params)\u001b[0m\n\u001b[0;32m    382\u001b[0m response \u001b[38;5;241m=\u001b[39m \u001b[38;5;28mself\u001b[39m\u001b[38;5;241m.\u001b[39mcommand_executor\u001b[38;5;241m.\u001b[39mexecute(driver_command, params)\n\u001b[0;32m    383\u001b[0m \u001b[38;5;28;01mif\u001b[39;00m response:\n\u001b[1;32m--> 384\u001b[0m     \u001b[38;5;28;43mself\u001b[39;49m\u001b[38;5;241;43m.\u001b[39;49m\u001b[43merror_handler\u001b[49m\u001b[38;5;241;43m.\u001b[39;49m\u001b[43mcheck_response\u001b[49m\u001b[43m(\u001b[49m\u001b[43mresponse\u001b[49m\u001b[43m)\u001b[49m\n\u001b[0;32m    385\u001b[0m     response[\u001b[38;5;124m\"\u001b[39m\u001b[38;5;124mvalue\u001b[39m\u001b[38;5;124m\"\u001b[39m] \u001b[38;5;241m=\u001b[39m \u001b[38;5;28mself\u001b[39m\u001b[38;5;241m.\u001b[39m_unwrap_value(response\u001b[38;5;241m.\u001b[39mget(\u001b[38;5;124m\"\u001b[39m\u001b[38;5;124mvalue\u001b[39m\u001b[38;5;124m\"\u001b[39m, \u001b[38;5;28;01mNone\u001b[39;00m))\n\u001b[0;32m    386\u001b[0m     \u001b[38;5;28;01mreturn\u001b[39;00m response\n",
      "File \u001b[1;32mc:\\Users\\victo\\AppData\\Local\\Programs\\Python\\Python313\\Lib\\site-packages\\selenium\\webdriver\\remote\\errorhandler.py:232\u001b[0m, in \u001b[0;36mErrorHandler.check_response\u001b[1;34m(self, response)\u001b[0m\n\u001b[0;32m    230\u001b[0m         alert_text \u001b[38;5;241m=\u001b[39m value[\u001b[38;5;124m\"\u001b[39m\u001b[38;5;124malert\u001b[39m\u001b[38;5;124m\"\u001b[39m]\u001b[38;5;241m.\u001b[39mget(\u001b[38;5;124m\"\u001b[39m\u001b[38;5;124mtext\u001b[39m\u001b[38;5;124m\"\u001b[39m)\n\u001b[0;32m    231\u001b[0m     \u001b[38;5;28;01mraise\u001b[39;00m exception_class(message, screen, stacktrace, alert_text)  \u001b[38;5;66;03m# type: ignore[call-arg]  # mypy is not smart enough here\u001b[39;00m\n\u001b[1;32m--> 232\u001b[0m \u001b[38;5;28;01mraise\u001b[39;00m exception_class(message, screen, stacktrace)\n",
      "\u001b[1;31mNoSuchElementException\u001b[0m: Message: no such element: Unable to locate element: {\"method\":\"xpath\",\"selector\":\"/html/body/div[2]/div[3]/div[3]/div[1]/div[2]/div[3]/div/main/div[3]/article[6]/div/div[1]/div/a/h2\"}\n  (Session info: chrome=131.0.6778.139); For documentation on this error, please visit: https://www.selenium.dev/documentation/webdriver/troubleshooting/errors#no-such-element-exception\nStacktrace:\n\tGetHandleVerifier [0x00B634A3+25059]\n\t(No symbol) [0x00AECEA4]\n\t(No symbol) [0x009CBEC3]\n\t(No symbol) [0x00A0FD86]\n\t(No symbol) [0x00A0FFCB]\n\t(No symbol) [0x00A05B01]\n\t(No symbol) [0x00A31F44]\n\t(No symbol) [0x00A05A24]\n\t(No symbol) [0x00A32194]\n\t(No symbol) [0x00A4B51E]\n\t(No symbol) [0x00A31C96]\n\t(No symbol) [0x00A03FAC]\n\t(No symbol) [0x00A04F3D]\n\tGetHandleVerifier [0x00E55613+3113811]\n\tGetHandleVerifier [0x00E6A2DA+3199002]\n\tGetHandleVerifier [0x00E62AB2+3168242]\n\tGetHandleVerifier [0x00C03310+680016]\n\t(No symbol) [0x00AF57ED]\n\t(No symbol) [0x00AF2A98]\n\t(No symbol) [0x00AF2C35]\n\t(No symbol) [0x00AE5890]\n\tBaseThreadInitThunk [0x75ECFCC9+25]\n\tRtlGetAppContainerNamedObjectPath [0x77C7809E+286]\n\tRtlGetAppContainerNamedObjectPath [0x77C7806E+238]\n"
     ]
    }
   ],
   "source": [
    "url = \"https://www.milanuncios.com/coches-de-segunda-mano/?s=tesla\"\n",
    "\n",
    "c_driver.get(f'{url}&pagina=1')\n",
    "time.sleep(4)\n",
    "\n",
    "cookies = c_driver.find_element(By.XPATH, '/html/body/div[1]/div/div/div/div/div/div[3]/button[3]')\n",
    "cookies.click()\n",
    "\n",
    "\n",
    "data = []\n",
    "for i in range(1,3):\n",
    "    \n",
    "    scroll_height = c_driver.execute_script(\"return document.body.scrollHeight\")\n",
    "\n",
    "    # Perform smooth scrolling by incrementally scrolling down\n",
    "    current_position = 0\n",
    "    step_size = 500  # Number of pixels to scroll at a time \n",
    "    while current_position < scroll_height:\n",
    "        c_driver.execute_script(f\"window.scrollTo(0, {current_position});\")\n",
    "        time.sleep(0.5)  # Delay to simulate smoothness\n",
    "        current_position += step_size\n",
    "    \n",
    "    articleNumber = 1\n",
    "    cars = c_driver.find_elements(By.XPATH, '//article[contains(@class, \"ma-AdCardV2\")]')\n",
    "    print(len(cars))\n",
    "    for car in cars:\n",
    "        \n",
    "        car_type = car.find_element(By.XPATH, f'/html/body/div[2]/div[3]/div[3]/div[1]/div[2]/div[3]/div/main/div[3]/article[{articleNumber}]/div/div[1]/div/a/h2').text \n",
    "\n",
    "        price = car.find_element(By.XPATH, f'/html/body/div[2]/div[3]/div[3]/div[1]/div[2]/div[3]/div/main/div[3]/article[{articleNumber}]/div/div[1]/a[1]/div[1]/div/p/span[2]').text\n",
    "        \n",
    "        km = car.find_element(By.XPATH, f'/html/body/div[2]/div[3]/div[3]/div[1]/div[2]/div[3]/div/main/div[3]/article[{articleNumber}]/div/div[1]/a[2]/div[2]/ul/li[1]/span/span').text\n",
    "        \n",
    "        year = car.find_element(By.XPATH, f'/html/body/div[2]/div[3]/div[3]/div[1]/div[2]/div[3]/div/main/div[3]/article[{articleNumber}]/div/div[1]/a[2]/div[2]/ul/li[2]/span/span').text\n",
    "\n",
    "        data.append({\n",
    "                'car_type': car_type,\n",
    "                'year': year,\n",
    "                'price': price,\n",
    "                'km': km\n",
    "            })\n",
    "        \n",
    "        articleNumber += 1\n",
    "    c_driver.get(f'{url}&pagina={i}')\n",
    "    time.sleep(2)    \n",
    "\n",
    "\n",
    "data"
   ]
  },
  {
   "cell_type": "code",
   "execution_count": null,
   "metadata": {},
   "outputs": [
    {
     "data": {
      "text/plain": [
       "[{'car_type': 'TESLA - MODEL Y',\n",
       "  'year': '2022',\n",
       "  'price': '35.490 €',\n",
       "  'km': '28.400 kms'},\n",
       " {'car_type': 'TESLA - MODEL 3',\n",
       "  'year': '2021',\n",
       "  'price': '33.990 €',\n",
       "  'km': '74.910 kms'},\n",
       " {'car_type': 'TESLA - MODEL 3',\n",
       "  'year': '2020',\n",
       "  'price': '35.490 €',\n",
       "  'km': '84.999 kms'}]"
      ]
     },
     "execution_count": 73,
     "metadata": {},
     "output_type": "execute_result"
    }
   ],
   "source": [
    "data"
   ]
  },
  {
   "cell_type": "code",
   "execution_count": null,
   "metadata": {},
   "outputs": [
    {
     "data": {
      "text/html": [
       "<div>\n",
       "<style scoped>\n",
       "    .dataframe tbody tr th:only-of-type {\n",
       "        vertical-align: middle;\n",
       "    }\n",
       "\n",
       "    .dataframe tbody tr th {\n",
       "        vertical-align: top;\n",
       "    }\n",
       "\n",
       "    .dataframe thead th {\n",
       "        text-align: right;\n",
       "    }\n",
       "</style>\n",
       "<table border=\"1\" class=\"dataframe\">\n",
       "  <thead>\n",
       "    <tr style=\"text-align: right;\">\n",
       "      <th></th>\n",
       "      <th>car_type</th>\n",
       "      <th>year</th>\n",
       "      <th>price</th>\n",
       "      <th>km</th>\n",
       "    </tr>\n",
       "  </thead>\n",
       "  <tbody>\n",
       "    <tr>\n",
       "      <th>0</th>\n",
       "      <td>TESLA - MODEL Y</td>\n",
       "      <td>2022</td>\n",
       "      <td>35.490 €</td>\n",
       "      <td>28.400 kms</td>\n",
       "    </tr>\n",
       "    <tr>\n",
       "      <th>1</th>\n",
       "      <td>TESLA - MODEL 3</td>\n",
       "      <td>2021</td>\n",
       "      <td>33.990 €</td>\n",
       "      <td>74.910 kms</td>\n",
       "    </tr>\n",
       "    <tr>\n",
       "      <th>2</th>\n",
       "      <td>TESLA - MODEL 3</td>\n",
       "      <td>2020</td>\n",
       "      <td>35.490 €</td>\n",
       "      <td>84.999 kms</td>\n",
       "    </tr>\n",
       "  </tbody>\n",
       "</table>\n",
       "</div>"
      ],
      "text/plain": [
       "          car_type  year     price          km\n",
       "0  TESLA - MODEL Y  2022  35.490 €  28.400 kms\n",
       "1  TESLA - MODEL 3  2021  33.990 €  74.910 kms\n",
       "2  TESLA - MODEL 3  2020  35.490 €  84.999 kms"
      ]
     },
     "execution_count": 74,
     "metadata": {},
     "output_type": "execute_result"
    }
   ],
   "source": [
    "df = pd.DataFrame(data)\n",
    "df"
   ]
  },
  {
   "cell_type": "code",
   "execution_count": null,
   "metadata": {},
   "outputs": [
    {
     "data": {
      "text/plain": [
       "car_type    0\n",
       "year        0\n",
       "price       0\n",
       "km          0\n",
       "dtype: int64"
      ]
     },
     "execution_count": 75,
     "metadata": {},
     "output_type": "execute_result"
    }
   ],
   "source": [
    "df.isna().sum()"
   ]
  },
  {
   "cell_type": "code",
   "execution_count": null,
   "metadata": {},
   "outputs": [],
   "source": [
    "df.to_csv('milanuncios.com.csv')"
   ]
  }
 ],
 "metadata": {
  "kernelspec": {
   "display_name": "Python 3",
   "language": "python",
   "name": "python3"
  },
  "language_info": {
   "codemirror_mode": {
    "name": "ipython",
    "version": 3
   },
   "file_extension": ".py",
   "mimetype": "text/x-python",
   "name": "python",
   "nbconvert_exporter": "python",
   "pygments_lexer": "ipython3",
   "version": "3.13.0"
  }
 },
 "nbformat": 4,
 "nbformat_minor": 2
}
