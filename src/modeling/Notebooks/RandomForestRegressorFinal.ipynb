{
 "cells": [
  {
   "cell_type": "code",
   "execution_count": 15,
   "metadata": {},
   "outputs": [],
   "source": [
    "import pandas as pd\n",
    "import numpy as np\n",
    "\n",
    "from sklearn.ensemble import RandomForestRegressor\n",
    "from sklearn.model_selection import train_test_split\n",
    "\n",
    "from sklearn.metrics import mean_absolute_error, mean_squared_error, r2_score"
   ]
  },
  {
   "cell_type": "code",
   "execution_count": 16,
   "metadata": {},
   "outputs": [],
   "source": [
    "def obtener_df():\n",
    "    df = pd.read_csv('../../../data/full_cleaned_data.csv')\n",
    "    df.drop(columns=[\"Unnamed: 0\"], inplace=True)\n",
    "    df.drop_duplicates(inplace=True)\n",
    "    return df\n",
    "\n",
    "\n",
    "def modelo_rfr(hiperparametros):\n",
    "    rfr = RandomForestRegressor(n_estimators=hiperparametros['estimator'], criterion=hiperparametros['criterio'], max_depth=hiperparametros['profundidad'], random_state=1337)\n",
    "    rfr.fit(X_train, y_train)\n",
    "    return rfr"
   ]
  },
  {
   "cell_type": "markdown",
   "metadata": {},
   "source": [
    "En base a diferentes pruebas realizadas, los mejores hiperparametros encontrados son los siguientes."
   ]
  },
  {
   "cell_type": "code",
   "execution_count": 17,
   "metadata": {},
   "outputs": [],
   "source": [
    "hiperparametros = {\n",
    "    'profundidad': 10,\n",
    "    'criterio': 'poisson',\n",
    "    'estimator': 50\n",
    "}"
   ]
  },
  {
   "cell_type": "code",
   "execution_count": 18,
   "metadata": {},
   "outputs": [],
   "source": [
    "df = obtener_df()\n",
    "\n",
    "X = df.drop(columns=['price'])  # Elimina la columna objetivo del conjunto de características\n",
    "y = df['price']  # Define la variable objetivo\n",
    "X_train, X_test, y_train, y_test = train_test_split(X, y, test_size=0.2, random_state=1337)\n",
    "\n",
    "\n",
    "rfr = modelo_rfr(hiperparametros=hiperparametros)\n",
    "predicciones = rfr.predict(X_test)"
   ]
  },
  {
   "cell_type": "code",
   "execution_count": 19,
   "metadata": {},
   "outputs": [],
   "source": [
    "# Calcular las métricas\n",
    "mae = mean_absolute_error(y_test, predicciones)\n",
    "mse = mean_squared_error(y_test, predicciones)\n",
    "rmse = np.sqrt(mse)\n",
    "r2 = r2_score(y_test, predicciones)"
   ]
  },
  {
   "cell_type": "code",
   "execution_count": 20,
   "metadata": {},
   "outputs": [
    {
     "name": "stdout",
     "output_type": "stream",
     "text": [
      "Mean Absolute Error (MAE): 1808.7412\n",
      "Mean Squared Error (MSE): 5912805.0378\n",
      "Root Mean Squared Error (RMSE): 2431.6260\n",
      "R-squared (R2): 0.9897\n"
     ]
    }
   ],
   "source": [
    "print(f\"Mean Absolute Error (MAE): {mae:.4f}\")\n",
    "print(f\"Mean Squared Error (MSE): {mse:.4f}\")\n",
    "print(f\"Root Mean Squared Error (RMSE): {rmse:.4f}\")\n",
    "print(f\"R-squared (R2): {r2:.4f}\")\n"
   ]
  }
 ],
 "metadata": {
  "kernelspec": {
   "display_name": "tesla_env",
   "language": "python",
   "name": "python3"
  },
  "language_info": {
   "codemirror_mode": {
    "name": "ipython",
    "version": 3
   },
   "file_extension": ".py",
   "mimetype": "text/x-python",
   "name": "python",
   "nbconvert_exporter": "python",
   "pygments_lexer": "ipython3",
   "version": "3.11.11"
  }
 },
 "nbformat": 4,
 "nbformat_minor": 2
}
